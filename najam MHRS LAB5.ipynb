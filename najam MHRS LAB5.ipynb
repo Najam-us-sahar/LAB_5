{
 "cells": [
  {
   "cell_type": "code",
   "execution_count": null,
   "id": "da93c712-0d10-485a-be1c-f1f9befc906b",
   "metadata": {},
   "outputs": [],
   "source": [
    "import rasterio\n",
    "import numpy as np\n",
    "import matplotlib.pyplot as plt\n",
    "\n",
    "hh_tif_path = \"E:\\MHS labs\\Lab data (Ormara)\\HH-ALPSRP240640490-H2.2_UA.tif\"\n",
    "hv_tif_path = \"E:\\MHS labs\\Lab data (Ormara)\\HV-ALPSRP240640490-H2.2_UA.tif\"\n",
    "\n",
    "with rasterio.open(hh_tif_path) as hh_dataset, rasterio.open(hv_tif_path) as hv_dataset:\n",
    "    hh_data = hh_dataset.read(1)  \n",
    "    hv_data = hv_dataset.read(1)  \n",
    "combined_data = np.log(hh_data) - np.log(hv_data)\n",
    "\n",
    "plt.figure(figsize=(8, 8))\n",
    "\n",
    "plt.imshow(combined_data, cmap='viridis', vmin=0, vmax=1)  \n",
    "plt.colorbar(label=\"Log Ratio\")\n",
    "plt.title(\"HH-HV Composite\")\n",
    "\n",
    "plt.show()"
   ]
  },
  {
   "cell_type": "code",
   "execution_count": null,
   "id": "4e2d372c-fa21-4e38-b6b8-dfcaa6773b31",
   "metadata": {},
   "outputs": [],
   "source": [
    "#NORMALIZED METHOD\n",
    "import rasterio\n",
    "import numpy as np\n",
    "import matplotlib.pyplot as plt\n",
    "\n",
    "hh_tif_path = \"E:\\MHS labs\\Lab data (Ormara)\\HH-ALPSRP240640490-H2.2_UA.tif\"\n",
    "hv_tif_path = \"E:\\MHS labs\\Lab data (Ormara)\\HV-ALPSRP240640490-H2.2_UA.tif\"\n",
    "\n",
    "with rasterio.open(hh_tif_path) as hh_dataset, rasterio.open(hv_tif_path) as hv_dataset:\n",
    "    hh_data = hh_dataset.read(1)  \n",
    "    hv_data = hv_dataset.read(1)  \n",
    "\n",
    "hh_normalized = (hh_data - np.min(hh_data)) / (np.max(hh_data) - np.min(hh_data))\n",
    "hv_normalized = (hv_data - np.min(hv_data)) / (np.max(hv_data) - np.min(hv_data))\n",
    "\n",
    "rgb_image = np.zeros((hh_data.shape[0], hv_data.shape[1], 3), dtype=np.float32)\n",
    "rgb_image[:, :, 0] = hh_normalized  \n",
    "rgb_image[:, :, 1] = hv_normalized  \n",
    "\n",
    "rgb_image = np.clip(rgb_image, 0, 1)\n",
    "plt.figure(figsize=(8, 8))\n",
    "plt.imshow(rgb_image)\n",
    "plt.title(\"HH-HV Color Composite\")\n",
    "plt.axis('off')  \n",
    "plt.show()\n",
    "\n",
    "colormap = plt.get_cmap(\"viridis\")  "
   ]
  },
  {
   "cell_type": "code",
   "execution_count": null,
   "id": "0f1988ec-f18a-45cd-8fa1-bfd39194cd26",
   "metadata": {},
   "outputs": [],
   "source": [
    "#NORMALIZED(SEISMEIC)\n",
    "import rasterio\n",
    "import numpy as np\n",
    "import matplotlib.pyplot as plt\n",
    "\n",
    "hh_tif_path = \"E:\\MHS labs\\Lab data (Ormara)\\HH-ALPSRP240640490-H2.2_UA.tif\"\n",
    "hv_tif_path = \"E:\\MHS labs\\Lab data (Ormara)\\HV-ALPSRP240640490-H2.2_UA.tif\"\n",
    "\n",
    "with rasterio.open(hh_tif_path) as hh_dataset, rasterio.open(hv_tif_path) as hv_dataset:\n",
    "    hh_data = hh_dataset.read(1) \n",
    "    hv_data = hv_dataset.read(1) \n",
    "\n",
    "hh_normalized = (hh_data - np.min(hh_data)) / (np.max(hh_data) - np.min(hh_data))\n",
    "hv_normalized = (hv_data - np.min(hv_data)) / (np.max(hv_data) - np.min(hv_data))\n",
    "\n",
    "difference = hh_normalized - hv_normalized\n",
    "\n",
    "colormap = plt.get_cmap(\"seismic\")  \n",
    "\n",
    "difference_colormap = (colormap(difference)[:, :, :3] * 255).astype(np.uint8)\n",
    "\n",
    "plt.figure(figsize=(8, 8))\n",
    "plt.imshow(difference_colormap)\n",
    "plt.title(\"HH-HV Difference Composite\")\n",
    "plt.axis('off')  \n",
    "plt.show()"
   ]
  }
 ],
 "metadata": {
  "kernelspec": {
   "display_name": "Python 3 (ipykernel)",
   "language": "python",
   "name": "python3"
  },
  "language_info": {
   "codemirror_mode": {
    "name": "ipython",
    "version": 3
   },
   "file_extension": ".py",
   "mimetype": "text/x-python",
   "name": "python",
   "nbconvert_exporter": "python",
   "pygments_lexer": "ipython3",
   "version": "3.11.4"
  }
 },
 "nbformat": 4,
 "nbformat_minor": 5
}
